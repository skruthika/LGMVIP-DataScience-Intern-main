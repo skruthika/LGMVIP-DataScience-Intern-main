{
 "cells": [
  {
   "cell_type": "markdown",
   "id": "19a99d15",
   "metadata": {},
   "source": [
    "# Let's Grow More(LGMVIP) - \"DATA SCIENCE INTERN\"\n",
    "\n",
    "# LGMVIP OCTOBER 2023\n",
    "\n",
    "---\n",
    "\n",
    "# AUTHOR - KRUTHIKA S\n",
    "\n",
    "# ADVANCED LEVEL TASK\n",
    "\n",
    "# TASK 1 - Develop A Neural Network That Can Read Handwriting"
   ]
  },
  {
   "cell_type": "code",
   "execution_count": 13,
   "id": "cbebe0b7",
   "metadata": {},
   "outputs": [],
   "source": [
    "# Import Libraries\n",
    "\n",
    "import os\n",
    "import numpy as np\n",
    "import matplotlib.pyplot as plt \n",
    "\n",
    "from tensorflow import keras\n",
    "from tensorflow.keras.datasets import mnist\n",
    "from tensorflow.keras.preprocessing import image\n",
    "\n",
    "from tensorflow.keras.models import Sequential\n",
    "from tensorflow.keras.layers import Dense, Flatten\n",
    "from tensorflow.keras.layers import Conv2D, MaxPooling2D"
   ]
  },
  {
   "cell_type": "code",
   "execution_count": 14,
   "id": "140d77a3",
   "metadata": {},
   "outputs": [
    {
     "name": "stdout",
     "output_type": "stream",
     "text": [
      "x_train and y_train size:((60000, 28, 28), (60000,))\n",
      "x_test and y_test size:((10000, 28, 28), (10000,))\n"
     ]
    }
   ],
   "source": [
    "# Use the mnist dataset contains into tf.keras.datasets and split it into a train and test samples\n",
    "\n",
    "(x_train, y_train), (x_test, y_test) = mnist.load_data()\n",
    "# print train and test datasets size\n",
    "print(f'x_train and y_train size:{x_train.shape, y_train.shape}')\n",
    "print(f'x_test and y_test size:{x_test.shape, y_test.shape}')"
   ]
  },
  {
   "cell_type": "code",
   "execution_count": 15,
   "id": "c42fb602",
   "metadata": {},
   "outputs": [],
   "source": [
    "# Write the number of groups of images (from 0 to 9) and the input shape into a variables\n",
    "\n",
    "num_classes = 10\n",
    "input_shape = (28, 28, 1)"
   ]
  },
  {
   "cell_type": "code",
   "execution_count": 16,
   "id": "494fb773",
   "metadata": {},
   "outputs": [],
   "source": [
    "# Reshape dataset to have a single color channel\n",
    "\n",
    "x_train = x_train.reshape(x_train.shape[0], 28, 28, 1)\n",
    "x_test = x_test.reshape(x_test.shape[0], 28, 28, 1)"
   ]
  },
  {
   "cell_type": "code",
   "execution_count": 17,
   "id": "5c658de6",
   "metadata": {},
   "outputs": [],
   "source": [
    "# Convert vector classes to binary matrices\n",
    "\n",
    "y_train = keras.utils.to_categorical(y_train, num_classes)\n",
    "y_test = keras.utils.to_categorical(y_test, num_classes)"
   ]
  },
  {
   "cell_type": "code",
   "execution_count": 18,
   "id": "307dd361",
   "metadata": {},
   "outputs": [
    {
     "name": "stdout",
     "output_type": "stream",
     "text": [
      "60000 train size\n",
      "10000 test size\n"
     ]
    }
   ],
   "source": [
    "# Normalizing x_train and x_test data\n",
    "\n",
    "x_train = x_train.astype('float32')\n",
    "x_test = x_test.astype('float32')\n",
    "x_train /= 255\n",
    "x_test /= 255\n",
    "\n",
    "print(x_train.shape[0], 'train size')\n",
    "print(x_test.shape[0], 'test size')"
   ]
  },
  {
   "cell_type": "code",
   "execution_count": 19,
   "id": "179c9d03",
   "metadata": {},
   "outputs": [],
   "source": [
    "# Create and compiling a model with two 2D convolution layers, Flatten and Dense layer. Take categorical_crossentropy as a loss \n",
    "# function and accuracy as a metric.\n",
    "\n",
    "model = Sequential()\n",
    "model.add(Conv2D(64, kernel_size=3, activation='relu', input_shape=(28,28,1)))\n",
    "model.add(Conv2D(32, kernel_size=3, activation='relu'))\n",
    "model.add(Flatten())\n",
    "model.add(Dense(10, activation='softmax'))\n",
    "model.compile(loss='categorical_crossentropy', optimizer='adam', metrics=['accuracy'])"
   ]
  },
  {
   "cell_type": "code",
   "execution_count": 20,
   "id": "6114e595",
   "metadata": {},
   "outputs": [
    {
     "name": "stdout",
     "output_type": "stream",
     "text": [
      "Epoch 1/8\n",
      "240/240 [==============================] - 53s 217ms/step - loss: 0.2493 - accuracy: 0.9290 - val_loss: 0.0669 - val_accuracy: 0.9800\n",
      "Epoch 2/8\n",
      "240/240 [==============================] - 52s 218ms/step - loss: 0.0679 - accuracy: 0.9802 - val_loss: 0.0524 - val_accuracy: 0.9825\n",
      "Epoch 3/8\n",
      "240/240 [==============================] - 51s 214ms/step - loss: 0.0474 - accuracy: 0.9855 - val_loss: 0.0484 - val_accuracy: 0.9837\n",
      "Epoch 4/8\n",
      "240/240 [==============================] - 54s 226ms/step - loss: 0.0366 - accuracy: 0.9885 - val_loss: 0.0456 - val_accuracy: 0.9850\n",
      "Epoch 5/8\n",
      "240/240 [==============================] - 54s 225ms/step - loss: 0.0291 - accuracy: 0.9915 - val_loss: 0.0412 - val_accuracy: 0.9875\n",
      "Epoch 6/8\n",
      "240/240 [==============================] - 52s 215ms/step - loss: 0.0223 - accuracy: 0.9928 - val_loss: 0.0467 - val_accuracy: 0.9855\n",
      "Epoch 7/8\n",
      "240/240 [==============================] - 50s 209ms/step - loss: 0.0173 - accuracy: 0.9947 - val_loss: 0.0544 - val_accuracy: 0.9852\n",
      "Epoch 8/8\n",
      "240/240 [==============================] - 54s 223ms/step - loss: 0.0152 - accuracy: 0.9949 - val_loss: 0.0465 - val_accuracy: 0.9874\n",
      "Model is succsessfully fitted\n",
      "Model saved as mnist.h5\n"
     ]
    }
   ],
   "source": [
    "# Fit model on 8 epochs with a batch size of 250.\n",
    "\n",
    "hist = model.fit(x_train, y_train, batch_size = 250, epochs=8, verbose=1, validation_data=(x_test, y_test))\n",
    "print('Model is succsessfully fitted')\n",
    "# Save model to be able to call later and predict without fitting\n",
    "model.save('mnist.h5')\n",
    "print('Model saved as mnist.h5')"
   ]
  },
  {
   "cell_type": "code",
   "execution_count": 21,
   "id": "43e5e716",
   "metadata": {},
   "outputs": [
    {
     "name": "stdout",
     "output_type": "stream",
     "text": [
      "test loss: 0.0465\n",
      "test accuracy: 0.9874\n"
     ]
    }
   ],
   "source": [
    "# Print result\n",
    "\n",
    "score = model.evaluate(x_test, y_test, verbose=0)\n",
    "print('test loss:', round(score[0], 4))\n",
    "print('test accuracy:', round(score[1], 4))"
   ]
  },
  {
   "cell_type": "code",
   "execution_count": 22,
   "id": "a3a45161",
   "metadata": {},
   "outputs": [],
   "source": [
    "# Create a function that will process a custom image into an array, reshape array, that is bring the image to the required input \n",
    "# shape, as well as perform inversion and normalization\n",
    "\n",
    "def preparation(im):\n",
    "    conv_img = image.img_to_array(im)\n",
    "    conv_img = conv_img.astype('float32')\n",
    "    # reshape the image \n",
    "    conv_img = np.expand_dims(conv_img, axis=0)\n",
    "    # inverse and normalize image array\n",
    "    conv_img = 255-conv_img\n",
    "    conv_img /= 255\n",
    "    return conv_img"
   ]
  },
  {
   "cell_type": "code",
   "execution_count": 23,
   "id": "3063d8aa",
   "metadata": {},
   "outputs": [],
   "source": [
    "# Checking the model on a custom pictures made in MS Paint\n",
    "\n",
    "# Load the images, change the size to 28x28, format to grayscale\n",
    "path = 'C:/Users/Konstantin/Documents/Стажировка Lets Grow More/Task 7/'\n",
    "for _, _, files in os.walk(path, topdown=False):\n",
    "        for file in files:\n",
    "            if file.endswith('.png'):\n",
    "                img = image.load_img(file, target_size=(28, 28), color_mode = \"grayscale\")\n",
    "                plt.imshow(img.convert('RGBA'))\n",
    "                plt.show();\n",
    "                # Perform images preparation\n",
    "                x = preparation(img)\n",
    "                # Make predict and print image and prediction\n",
    "                prediction = model.predict(x, verbose=0)\n",
    "                prediction = np.argmax(prediction)\n",
    "                print(f'model result - {prediction}\\n{\"-\" * 55}')"
   ]
  }
 ],
 "metadata": {
  "kernelspec": {
   "display_name": "Python 3 (ipykernel)",
   "language": "python",
   "name": "python3"
  },
  "language_info": {
   "codemirror_mode": {
    "name": "ipython",
    "version": 3
   },
   "file_extension": ".py",
   "mimetype": "text/x-python",
   "name": "python",
   "nbconvert_exporter": "python",
   "pygments_lexer": "ipython3",
   "version": "3.9.12"
  }
 },
 "nbformat": 4,
 "nbformat_minor": 5
}
