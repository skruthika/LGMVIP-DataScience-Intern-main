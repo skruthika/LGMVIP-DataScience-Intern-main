{
 "cells": [
  {
   "cell_type": "markdown",
   "metadata": {
    "id": "S3z-EtszXasv"
   },
   "source": [
    "#Let's Grow More(LGMVIP) - \"DATA SCIENCE INTERN\"\n",
    "#LGMVIP OCTOBER-2023\n",
    "\n",
    "---\n",
    "\n",
    "#AUTHOR - KRUTHIKA S\n",
    "\n",
    "---\n",
    "\n",
    "#BEGINNER LEVEL TASK\n",
    "\n",
    "#TASK-2 - Stock Market Prediction And Forecasting Using Stacked LSTM"
   ]
  },
  {
   "cell_type": "markdown",
   "metadata": {
    "id": "x2AfemHrX2BO"
   },
   "source": [
    "**Importing Libraries**"
   ]
  },
  {
   "cell_type": "code",
   "execution_count": 1,
   "metadata": {
    "id": "R4A0CUn7XXgM"
   },
   "outputs": [],
   "source": [
    "import numpy as np\n",
    "import pandas as pd\n",
    "import datetime\n",
    "import math\n",
    "import matplotlib.pyplot as plt\n",
    "import seaborn as sns\n",
    "from sklearn.preprocessing import MinMaxScaler\n",
    "from tensorflow.keras.models import Sequential\n",
    "from tensorflow.keras.layers import Dense , LSTM\n",
    "from sklearn.metrics import mean_squared_error"
   ]
  },
  {
   "cell_type": "markdown",
   "metadata": {
    "id": "OmSGbN7NX7Zv"
   },
   "source": [
    "**Importing Dataset**"
   ]
  },
  {
   "cell_type": "code",
   "execution_count": 2,
   "metadata": {
    "id": "6ykRMx3TX_PG"
   },
   "outputs": [],
   "source": [
    "Dataset_link='https://raw.githubusercontent.com/mwitiderrick/stockprice/master/NSE-TATAGLOBAL.csv'"
   ]
  },
  {
   "cell_type": "code",
   "execution_count": 3,
   "metadata": {
    "colab": {
     "base_uri": "https://localhost:8080/",
     "height": 520
    },
    "id": "HeRNZ4lwYBXH",
    "outputId": "af920275-b9b8-4f7b-d42c-f04bed6f2a6c"
   },
   "outputs": [
    {
     "data": {
      "text/html": [
       "<div>\n",
       "<style scoped>\n",
       "    .dataframe tbody tr th:only-of-type {\n",
       "        vertical-align: middle;\n",
       "    }\n",
       "\n",
       "    .dataframe tbody tr th {\n",
       "        vertical-align: top;\n",
       "    }\n",
       "\n",
       "    .dataframe thead th {\n",
       "        text-align: right;\n",
       "    }\n",
       "</style>\n",
       "<table border=\"1\" class=\"dataframe\">\n",
       "  <thead>\n",
       "    <tr style=\"text-align: right;\">\n",
       "      <th></th>\n",
       "      <th>Date</th>\n",
       "      <th>Open</th>\n",
       "      <th>High</th>\n",
       "      <th>Low</th>\n",
       "      <th>Last</th>\n",
       "      <th>Close</th>\n",
       "      <th>Total Trade Quantity</th>\n",
       "      <th>Turnover (Lacs)</th>\n",
       "    </tr>\n",
       "  </thead>\n",
       "  <tbody>\n",
       "    <tr>\n",
       "      <th>0</th>\n",
       "      <td>2018-09-28</td>\n",
       "      <td>234.05</td>\n",
       "      <td>235.95</td>\n",
       "      <td>230.20</td>\n",
       "      <td>233.50</td>\n",
       "      <td>233.75</td>\n",
       "      <td>3069914</td>\n",
       "      <td>7162.35</td>\n",
       "    </tr>\n",
       "    <tr>\n",
       "      <th>1</th>\n",
       "      <td>2018-09-27</td>\n",
       "      <td>234.55</td>\n",
       "      <td>236.80</td>\n",
       "      <td>231.10</td>\n",
       "      <td>233.80</td>\n",
       "      <td>233.25</td>\n",
       "      <td>5082859</td>\n",
       "      <td>11859.95</td>\n",
       "    </tr>\n",
       "    <tr>\n",
       "      <th>2</th>\n",
       "      <td>2018-09-26</td>\n",
       "      <td>240.00</td>\n",
       "      <td>240.00</td>\n",
       "      <td>232.50</td>\n",
       "      <td>235.00</td>\n",
       "      <td>234.25</td>\n",
       "      <td>2240909</td>\n",
       "      <td>5248.60</td>\n",
       "    </tr>\n",
       "    <tr>\n",
       "      <th>3</th>\n",
       "      <td>2018-09-25</td>\n",
       "      <td>233.30</td>\n",
       "      <td>236.75</td>\n",
       "      <td>232.00</td>\n",
       "      <td>236.25</td>\n",
       "      <td>236.10</td>\n",
       "      <td>2349368</td>\n",
       "      <td>5503.90</td>\n",
       "    </tr>\n",
       "    <tr>\n",
       "      <th>4</th>\n",
       "      <td>2018-09-24</td>\n",
       "      <td>233.55</td>\n",
       "      <td>239.20</td>\n",
       "      <td>230.75</td>\n",
       "      <td>234.00</td>\n",
       "      <td>233.30</td>\n",
       "      <td>3423509</td>\n",
       "      <td>7999.55</td>\n",
       "    </tr>\n",
       "    <tr>\n",
       "      <th>5</th>\n",
       "      <td>2018-09-21</td>\n",
       "      <td>235.00</td>\n",
       "      <td>237.00</td>\n",
       "      <td>227.95</td>\n",
       "      <td>233.75</td>\n",
       "      <td>234.60</td>\n",
       "      <td>5395319</td>\n",
       "      <td>12589.59</td>\n",
       "    </tr>\n",
       "    <tr>\n",
       "      <th>6</th>\n",
       "      <td>2018-09-19</td>\n",
       "      <td>235.95</td>\n",
       "      <td>237.20</td>\n",
       "      <td>233.45</td>\n",
       "      <td>234.60</td>\n",
       "      <td>234.90</td>\n",
       "      <td>1362058</td>\n",
       "      <td>3202.78</td>\n",
       "    </tr>\n",
       "    <tr>\n",
       "      <th>7</th>\n",
       "      <td>2018-09-18</td>\n",
       "      <td>237.90</td>\n",
       "      <td>239.25</td>\n",
       "      <td>233.50</td>\n",
       "      <td>235.50</td>\n",
       "      <td>235.05</td>\n",
       "      <td>2614794</td>\n",
       "      <td>6163.70</td>\n",
       "    </tr>\n",
       "    <tr>\n",
       "      <th>8</th>\n",
       "      <td>2018-09-17</td>\n",
       "      <td>233.15</td>\n",
       "      <td>238.00</td>\n",
       "      <td>230.25</td>\n",
       "      <td>236.40</td>\n",
       "      <td>236.60</td>\n",
       "      <td>3170894</td>\n",
       "      <td>7445.41</td>\n",
       "    </tr>\n",
       "    <tr>\n",
       "      <th>9</th>\n",
       "      <td>2018-09-14</td>\n",
       "      <td>223.45</td>\n",
       "      <td>236.70</td>\n",
       "      <td>223.30</td>\n",
       "      <td>234.00</td>\n",
       "      <td>233.95</td>\n",
       "      <td>6377909</td>\n",
       "      <td>14784.50</td>\n",
       "    </tr>\n",
       "    <tr>\n",
       "      <th>10</th>\n",
       "      <td>2018-09-12</td>\n",
       "      <td>216.35</td>\n",
       "      <td>223.70</td>\n",
       "      <td>212.65</td>\n",
       "      <td>221.65</td>\n",
       "      <td>222.65</td>\n",
       "      <td>4570939</td>\n",
       "      <td>10002.01</td>\n",
       "    </tr>\n",
       "    <tr>\n",
       "      <th>11</th>\n",
       "      <td>2018-09-11</td>\n",
       "      <td>222.50</td>\n",
       "      <td>225.40</td>\n",
       "      <td>214.85</td>\n",
       "      <td>216.35</td>\n",
       "      <td>216.00</td>\n",
       "      <td>3508990</td>\n",
       "      <td>7735.81</td>\n",
       "    </tr>\n",
       "    <tr>\n",
       "      <th>12</th>\n",
       "      <td>2018-09-10</td>\n",
       "      <td>222.50</td>\n",
       "      <td>235.15</td>\n",
       "      <td>220.65</td>\n",
       "      <td>221.05</td>\n",
       "      <td>222.00</td>\n",
       "      <td>7514106</td>\n",
       "      <td>17130.29</td>\n",
       "    </tr>\n",
       "    <tr>\n",
       "      <th>13</th>\n",
       "      <td>2018-09-07</td>\n",
       "      <td>221.00</td>\n",
       "      <td>224.50</td>\n",
       "      <td>219.10</td>\n",
       "      <td>223.15</td>\n",
       "      <td>222.95</td>\n",
       "      <td>1232507</td>\n",
       "      <td>2742.84</td>\n",
       "    </tr>\n",
       "    <tr>\n",
       "      <th>14</th>\n",
       "      <td>2018-09-06</td>\n",
       "      <td>224.00</td>\n",
       "      <td>225.00</td>\n",
       "      <td>218.20</td>\n",
       "      <td>220.95</td>\n",
       "      <td>221.05</td>\n",
       "      <td>1738824</td>\n",
       "      <td>3856.72</td>\n",
       "    </tr>\n",
       "  </tbody>\n",
       "</table>\n",
       "</div>"
      ],
      "text/plain": [
       "          Date    Open    High     Low    Last   Close  Total Trade Quantity  \\\n",
       "0   2018-09-28  234.05  235.95  230.20  233.50  233.75               3069914   \n",
       "1   2018-09-27  234.55  236.80  231.10  233.80  233.25               5082859   \n",
       "2   2018-09-26  240.00  240.00  232.50  235.00  234.25               2240909   \n",
       "3   2018-09-25  233.30  236.75  232.00  236.25  236.10               2349368   \n",
       "4   2018-09-24  233.55  239.20  230.75  234.00  233.30               3423509   \n",
       "5   2018-09-21  235.00  237.00  227.95  233.75  234.60               5395319   \n",
       "6   2018-09-19  235.95  237.20  233.45  234.60  234.90               1362058   \n",
       "7   2018-09-18  237.90  239.25  233.50  235.50  235.05               2614794   \n",
       "8   2018-09-17  233.15  238.00  230.25  236.40  236.60               3170894   \n",
       "9   2018-09-14  223.45  236.70  223.30  234.00  233.95               6377909   \n",
       "10  2018-09-12  216.35  223.70  212.65  221.65  222.65               4570939   \n",
       "11  2018-09-11  222.50  225.40  214.85  216.35  216.00               3508990   \n",
       "12  2018-09-10  222.50  235.15  220.65  221.05  222.00               7514106   \n",
       "13  2018-09-07  221.00  224.50  219.10  223.15  222.95               1232507   \n",
       "14  2018-09-06  224.00  225.00  218.20  220.95  221.05               1738824   \n",
       "\n",
       "    Turnover (Lacs)  \n",
       "0           7162.35  \n",
       "1          11859.95  \n",
       "2           5248.60  \n",
       "3           5503.90  \n",
       "4           7999.55  \n",
       "5          12589.59  \n",
       "6           3202.78  \n",
       "7           6163.70  \n",
       "8           7445.41  \n",
       "9          14784.50  \n",
       "10         10002.01  \n",
       "11          7735.81  \n",
       "12         17130.29  \n",
       "13          2742.84  \n",
       "14          3856.72  "
      ]
     },
     "execution_count": 3,
     "metadata": {},
     "output_type": "execute_result"
    }
   ],
   "source": [
    "data= pd.read_csv(Dataset_link, parse_dates=True,)\n",
    "data.reset_index()\n",
    "data.head(15)"
   ]
  },
  {
   "cell_type": "markdown",
   "metadata": {
    "id": "JPPBcJTeY6su"
   },
   "source": [
    "**Dataset information**"
   ]
  },
  {
   "cell_type": "code",
   "execution_count": 4,
   "metadata": {
    "colab": {
     "base_uri": "https://localhost:8080/",
     "height": 300
    },
    "id": "GdS_qIxTYDEN",
    "outputId": "a2fc62fb-7274-4394-d9e2-4e3bb57ee99d"
   },
   "outputs": [
    {
     "data": {
      "text/html": [
       "<div>\n",
       "<style scoped>\n",
       "    .dataframe tbody tr th:only-of-type {\n",
       "        vertical-align: middle;\n",
       "    }\n",
       "\n",
       "    .dataframe tbody tr th {\n",
       "        vertical-align: top;\n",
       "    }\n",
       "\n",
       "    .dataframe thead th {\n",
       "        text-align: right;\n",
       "    }\n",
       "</style>\n",
       "<table border=\"1\" class=\"dataframe\">\n",
       "  <thead>\n",
       "    <tr style=\"text-align: right;\">\n",
       "      <th></th>\n",
       "      <th>Open</th>\n",
       "      <th>High</th>\n",
       "      <th>Low</th>\n",
       "      <th>Last</th>\n",
       "      <th>Close</th>\n",
       "      <th>Total Trade Quantity</th>\n",
       "      <th>Turnover (Lacs)</th>\n",
       "    </tr>\n",
       "  </thead>\n",
       "  <tbody>\n",
       "    <tr>\n",
       "      <th>count</th>\n",
       "      <td>2035.000000</td>\n",
       "      <td>2035.000000</td>\n",
       "      <td>2035.000000</td>\n",
       "      <td>2035.000000</td>\n",
       "      <td>2035.00000</td>\n",
       "      <td>2.035000e+03</td>\n",
       "      <td>2035.000000</td>\n",
       "    </tr>\n",
       "    <tr>\n",
       "      <th>mean</th>\n",
       "      <td>149.713735</td>\n",
       "      <td>151.992826</td>\n",
       "      <td>147.293931</td>\n",
       "      <td>149.474251</td>\n",
       "      <td>149.45027</td>\n",
       "      <td>2.335681e+06</td>\n",
       "      <td>3899.980565</td>\n",
       "    </tr>\n",
       "    <tr>\n",
       "      <th>std</th>\n",
       "      <td>48.664509</td>\n",
       "      <td>49.413109</td>\n",
       "      <td>47.931958</td>\n",
       "      <td>48.732570</td>\n",
       "      <td>48.71204</td>\n",
       "      <td>2.091778e+06</td>\n",
       "      <td>4570.767877</td>\n",
       "    </tr>\n",
       "    <tr>\n",
       "      <th>min</th>\n",
       "      <td>81.100000</td>\n",
       "      <td>82.800000</td>\n",
       "      <td>80.000000</td>\n",
       "      <td>81.000000</td>\n",
       "      <td>80.95000</td>\n",
       "      <td>3.961000e+04</td>\n",
       "      <td>37.040000</td>\n",
       "    </tr>\n",
       "    <tr>\n",
       "      <th>25%</th>\n",
       "      <td>120.025000</td>\n",
       "      <td>122.100000</td>\n",
       "      <td>118.300000</td>\n",
       "      <td>120.075000</td>\n",
       "      <td>120.05000</td>\n",
       "      <td>1.146444e+06</td>\n",
       "      <td>1427.460000</td>\n",
       "    </tr>\n",
       "    <tr>\n",
       "      <th>50%</th>\n",
       "      <td>141.500000</td>\n",
       "      <td>143.400000</td>\n",
       "      <td>139.600000</td>\n",
       "      <td>141.100000</td>\n",
       "      <td>141.25000</td>\n",
       "      <td>1.783456e+06</td>\n",
       "      <td>2512.030000</td>\n",
       "    </tr>\n",
       "    <tr>\n",
       "      <th>75%</th>\n",
       "      <td>157.175000</td>\n",
       "      <td>159.400000</td>\n",
       "      <td>155.150000</td>\n",
       "      <td>156.925000</td>\n",
       "      <td>156.90000</td>\n",
       "      <td>2.813594e+06</td>\n",
       "      <td>4539.015000</td>\n",
       "    </tr>\n",
       "    <tr>\n",
       "      <th>max</th>\n",
       "      <td>327.700000</td>\n",
       "      <td>328.750000</td>\n",
       "      <td>321.650000</td>\n",
       "      <td>325.950000</td>\n",
       "      <td>325.75000</td>\n",
       "      <td>2.919102e+07</td>\n",
       "      <td>55755.080000</td>\n",
       "    </tr>\n",
       "  </tbody>\n",
       "</table>\n",
       "</div>"
      ],
      "text/plain": [
       "              Open         High          Low         Last       Close  \\\n",
       "count  2035.000000  2035.000000  2035.000000  2035.000000  2035.00000   \n",
       "mean    149.713735   151.992826   147.293931   149.474251   149.45027   \n",
       "std      48.664509    49.413109    47.931958    48.732570    48.71204   \n",
       "min      81.100000    82.800000    80.000000    81.000000    80.95000   \n",
       "25%     120.025000   122.100000   118.300000   120.075000   120.05000   \n",
       "50%     141.500000   143.400000   139.600000   141.100000   141.25000   \n",
       "75%     157.175000   159.400000   155.150000   156.925000   156.90000   \n",
       "max     327.700000   328.750000   321.650000   325.950000   325.75000   \n",
       "\n",
       "       Total Trade Quantity  Turnover (Lacs)  \n",
       "count          2.035000e+03      2035.000000  \n",
       "mean           2.335681e+06      3899.980565  \n",
       "std            2.091778e+06      4570.767877  \n",
       "min            3.961000e+04        37.040000  \n",
       "25%            1.146444e+06      1427.460000  \n",
       "50%            1.783456e+06      2512.030000  \n",
       "75%            2.813594e+06      4539.015000  \n",
       "max            2.919102e+07     55755.080000  "
      ]
     },
     "execution_count": 4,
     "metadata": {},
     "output_type": "execute_result"
    }
   ],
   "source": [
    "data.describe()"
   ]
  },
  {
   "cell_type": "code",
   "execution_count": 5,
   "metadata": {
    "colab": {
     "base_uri": "https://localhost:8080/"
    },
    "id": "ktGy3uy4YGH9",
    "outputId": "70d4a540-e1d2-449d-bad7-cb6cd0d14c2e"
   },
   "outputs": [
    {
     "data": {
      "text/plain": [
       "Index(['Date', 'Open', 'High', 'Low', 'Last', 'Close', 'Total Trade Quantity',\n",
       "       'Turnover (Lacs)'],\n",
       "      dtype='object')"
      ]
     },
     "execution_count": 5,
     "metadata": {},
     "output_type": "execute_result"
    }
   ],
   "source": [
    "data.columns"
   ]
  },
  {
   "cell_type": "code",
   "execution_count": 6,
   "metadata": {
    "colab": {
     "base_uri": "https://localhost:8080/"
    },
    "id": "hsensV38YHQk",
    "outputId": "0dd1b9d9-7a0f-4216-f666-8987c5961a10"
   },
   "outputs": [
    {
     "data": {
      "text/plain": [
       "(2035, 8)"
      ]
     },
     "execution_count": 6,
     "metadata": {},
     "output_type": "execute_result"
    }
   ],
   "source": [
    "data.shape"
   ]
  },
  {
   "cell_type": "code",
   "execution_count": 7,
   "metadata": {
    "colab": {
     "base_uri": "https://localhost:8080/"
    },
    "id": "8zUv_kw3YIoV",
    "outputId": "e045674a-bfc9-442f-e044-14e6d638daf2"
   },
   "outputs": [
    {
     "data": {
      "text/plain": [
       "Date                    0\n",
       "Open                    0\n",
       "High                    0\n",
       "Low                     0\n",
       "Last                    0\n",
       "Close                   0\n",
       "Total Trade Quantity    0\n",
       "Turnover (Lacs)         0\n",
       "dtype: int64"
      ]
     },
     "execution_count": 7,
     "metadata": {},
     "output_type": "execute_result"
    }
   ],
   "source": [
    "data.isnull().sum()"
   ]
  },
  {
   "cell_type": "markdown",
   "metadata": {
    "id": "W9cdwrQcY9Ut"
   },
   "source": [
    "**Visualizaations**"
   ]
  },
  {
   "cell_type": "code",
   "execution_count": 8,
   "metadata": {
    "colab": {
     "base_uri": "https://localhost:8080/",
     "height": 545
    },
    "id": "O2A4Y6f_YJ-E",
    "outputId": "ea929552-077d-4300-ab71-9b29d2c88b36"
   },
   "outputs": [
    {
     "data": {
      "image/png": "[encoded data removed]",
      "text/plain": [
       "<Figure size 1080x432 with 1 Axes>"
      ]
     },
     "metadata": {
      "needs_background": "light"
     },
     "output_type": "display_data"
    }
   ],
   "source": [
    "plt.figure(figsize=(10,6))\n",
    "data['Close'].plot(kind='line',figsize=(15,6),color='b',label=\"Closing Price\")\n",
    "\n",
    "plt.ylabel(\"Price\")\n",
    "plt.legend(loc=\"upper right\")\n",
    "plt.title(\"Change in closing price over the years\")\n",
    "plt.grid()"
   ]
  },
  {
   "cell_type": "code",
   "execution_count": 9,
   "metadata": {
    "colab": {
     "base_uri": "https://localhost:8080/",
     "height": 545
    },
    "id": "LbCnm77dYLkX",
    "outputId": "5e83eb04-baa0-4f41-8bbe-c8fea3d504cf"
   },
   "outputs": [
    {
     "data": {
      "image/png": "[encoded data removed]",
      "text/plain": [
       "<Figure size 1080x432 with 1 Axes>"
      ]
     },
     "metadata": {
      "needs_background": "light"
     },
     "output_type": "display_data"
    }
   ],
   "source": [
    "plt.figure(figsize=(10,6))\n",
    "data['Open'].plot(kind='line',figsize=(15,6),color='r',label=\"Opening Price\")\n",
    "\n",
    "plt.ylabel(\"Price\")\n",
    "plt.legend(loc=\"upper left\")\n",
    "plt.title(\"Change in opening price over the years\")\n",
    "plt.grid()"
   ]
  },
  {
   "cell_type": "code",
   "execution_count": 10,
   "metadata": {
    "colab": {
     "base_uri": "https://localhost:8080/"
    },
    "id": "xtwbGHPiYN9l",
    "outputId": "8987b1dc-0d5d-4e44-adf6-dbb57f32018a"
   },
   "outputs": [
    {
     "data": {
      "text/plain": [
       "0       233.75\n",
       "1       233.25\n",
       "2       234.25\n",
       "3       236.10\n",
       "4       233.30\n",
       "         ...  \n",
       "2030    118.65\n",
       "2031    117.60\n",
       "2032    120.65\n",
       "2033    120.90\n",
       "2034    121.55\n",
       "Name: Close, Length: 2035, dtype: float64"
      ]
     },
     "execution_count": 10,
     "metadata": {},
     "output_type": "execute_result"
    }
   ],
   "source": [
    "df1=data.reset_index()['Close']\n",
    "df1"
   ]
  },
  {
   "cell_type": "code",
   "execution_count": 11,
   "metadata": {
    "colab": {
     "base_uri": "https://localhost:8080/",
     "height": 725
    },
    "id": "IL2ljEqoYPMU",
    "outputId": "ac7467c3-e575-4363-f8ba-70394a22e775"
   },
   "outputs": [
    {
     "data": {
      "text/plain": [
       "<AxesSubplot:>"
      ]
     },
     "execution_count": 11,
     "metadata": {},
     "output_type": "execute_result"
    },
    {
     "data": {
      "image/png": "[encoded data removed]",
      "text/plain": [
       "<Figure size 864x432 with 2 Axes>"
      ]
     },
     "metadata": {
      "needs_background": "light"
     },
     "output_type": "display_data"
    }
   ],
   "source": [
    "plt.figure(figsize=(12,6))\n",
    "sns.heatmap(data.corr(),annot=True)"
   ]
  },
  {
   "cell_type": "code",
   "execution_count": 12,
   "metadata": {
    "colab": {
     "base_uri": "https://localhost:8080/",
     "height": 459
    },
    "id": "Io25JJKYYQw_",
    "outputId": "90d4ae79-7397-4462-8b56-85c16ea6e8cd"
   },
   "outputs": [
    {
     "data": {
      "text/plain": [
       "<AxesSubplot:ylabel='Turnover (Lacs)'>"
      ]
     },
     "execution_count": 12,
     "metadata": {},
     "output_type": "execute_result"
    },
    {
     "data": {
      "image/png": "[encoded data removed]",
      "text/plain": [
       "<Figure size 792x360 with 2 Axes>"
      ]
     },
     "metadata": {
      "needs_background": "light"
     },
     "output_type": "display_data"
    }
   ],
   "source": [
    "plt.figure(figsize=(11,5))\n",
    "plt.subplot(1,2,1)\n",
    "sns.boxplot(data=data,y='Total Trade Quantity',color='yellow')\n",
    "plt.subplot(1,2,2)\n",
    "sns.boxplot(data=data,y='Turnover (Lacs)',color='green')"
   ]
  },
  {
   "cell_type": "code",
   "execution_count": 13,
   "metadata": {
    "colab": {
     "base_uri": "https://localhost:8080/",
     "height": 564
    },
    "id": "fovonEmLYSUN",
    "outputId": "3d79e51f-c345-490d-b980-db857f68e9c0"
   },
   "outputs": [
    {
     "data": {
      "image/png": "[encoded data removed]",
      "text/plain": [
       "<Figure size 504x432 with 1 Axes>"
      ]
     },
     "metadata": {
      "needs_background": "light"
     },
     "output_type": "display_data"
    }
   ],
   "source": [
    "fig=plt.figure(figsize=(7,6))\n",
    "plt.scatter(data['Total Trade Quantity'],data['Turnover (Lacs)'], alpha=0.5, edgecolor='b', color='cyan')\n",
    "plt.xlabel(\"Trade Quantity (in 100000)\")\n",
    "plt.ylabel(\"Turnover (in lacs)\")\n",
    "plt.title(\" Selling Units Vs Turnover\")\n",
    "plt.show()"
   ]
  },
  {
   "cell_type": "markdown",
   "metadata": {
    "id": "9CDOgU0KZBig"
   },
   "source": [
    "**Spliting Dataset**"
   ]
  },
  {
   "cell_type": "code",
   "execution_count": 14,
   "metadata": {
    "colab": {
     "base_uri": "https://localhost:8080/",
     "height": 424
    },
    "id": "gfWpgvyoYT8U",
    "outputId": "bbb5cd94-f12d-4f44-fec2-12e8c96480d5"
   },
   "outputs": [
    {
     "data": {
      "text/html": [
       "<div>\n",
       "<style scoped>\n",
       "    .dataframe tbody tr th:only-of-type {\n",
       "        vertical-align: middle;\n",
       "    }\n",
       "\n",
       "    .dataframe tbody tr th {\n",
       "        vertical-align: top;\n",
       "    }\n",
       "\n",
       "    .dataframe thead th {\n",
       "        text-align: right;\n",
       "    }\n",
       "</style>\n",
       "<table border=\"1\" class=\"dataframe\">\n",
       "  <thead>\n",
       "    <tr style=\"text-align: right;\">\n",
       "      <th></th>\n",
       "      <th>Open</th>\n",
       "    </tr>\n",
       "  </thead>\n",
       "  <tbody>\n",
       "    <tr>\n",
       "      <th>0</th>\n",
       "      <td>234.05</td>\n",
       "    </tr>\n",
       "    <tr>\n",
       "      <th>1</th>\n",
       "      <td>234.55</td>\n",
       "    </tr>\n",
       "    <tr>\n",
       "      <th>2</th>\n",
       "      <td>240.00</td>\n",
       "    </tr>\n",
       "    <tr>\n",
       "      <th>3</th>\n",
       "      <td>233.30</td>\n",
       "    </tr>\n",
       "    <tr>\n",
       "      <th>4</th>\n",
       "      <td>233.55</td>\n",
       "    </tr>\n",
       "    <tr>\n",
       "      <th>...</th>\n",
       "      <td>...</td>\n",
       "    </tr>\n",
       "    <tr>\n",
       "      <th>2030</th>\n",
       "      <td>117.60</td>\n",
       "    </tr>\n",
       "    <tr>\n",
       "      <th>2031</th>\n",
       "      <td>120.10</td>\n",
       "    </tr>\n",
       "    <tr>\n",
       "      <th>2032</th>\n",
       "      <td>121.80</td>\n",
       "    </tr>\n",
       "    <tr>\n",
       "      <th>2033</th>\n",
       "      <td>120.30</td>\n",
       "    </tr>\n",
       "    <tr>\n",
       "      <th>2034</th>\n",
       "      <td>122.10</td>\n",
       "    </tr>\n",
       "  </tbody>\n",
       "</table>\n",
       "<p>2035 rows × 1 columns</p>\n",
       "</div>"
      ],
      "text/plain": [
       "        Open\n",
       "0     234.05\n",
       "1     234.55\n",
       "2     240.00\n",
       "3     233.30\n",
       "4     233.55\n",
       "...      ...\n",
       "2030  117.60\n",
       "2031  120.10\n",
       "2032  121.80\n",
       "2033  120.30\n",
       "2034  122.10\n",
       "\n",
       "[2035 rows x 1 columns]"
      ]
     },
     "execution_count": 14,
     "metadata": {},
     "output_type": "execute_result"
    }
   ],
   "source": [
    "training_set= data[['Open']]\n",
    "training_set=pd.DataFrame(training_set)\n",
    "training_set"
   ]
  },
  {
   "cell_type": "markdown",
   "metadata": {
    "id": "0t4LfXIHZFFU"
   },
   "source": [
    "**Preprocessing**"
   ]
  },
  {
   "cell_type": "code",
   "execution_count": 15,
   "metadata": {
    "id": "l50ssqNpYVZt"
   },
   "outputs": [],
   "source": [
    "scaler=MinMaxScaler(feature_range=(0,1))\n",
    "training_set_scaler=scaler.fit_transform(np.array(df1).reshape(-1,1))"
   ]
  },
  {
   "cell_type": "code",
   "execution_count": 16,
   "metadata": {
    "id": "ZaJGnnP9YXZF"
   },
   "outputs": [],
   "source": [
    "scaler=MinMaxScaler(feature_range=(0,1))\n",
    "training_set_scaler=scaler.fit_transform(np.array(df1).reshape(-1,1))"
   ]
  },
  {
   "cell_type": "code",
   "execution_count": 17,
   "metadata": {
    "colab": {
     "base_uri": "https://localhost:8080/"
    },
    "id": "JrsgzT3CYX7N",
    "outputId": "a8351eb9-2c10-4be9-acde-3eff3167789a"
   },
   "outputs": [
    {
     "data": {
      "text/plain": [
       "array([[0.62418301],\n",
       "       [0.62214052],\n",
       "       [0.62622549],\n",
       "       ...,\n",
       "       [0.1621732 ],\n",
       "       [0.16319444],\n",
       "       [0.16584967]])"
      ]
     },
     "execution_count": 17,
     "metadata": {},
     "output_type": "execute_result"
    }
   ],
   "source": [
    "training_set_scaler"
   ]
  },
  {
   "cell_type": "code",
   "execution_count": 18,
   "metadata": {
    "id": "HRv6SjOhYjVw"
   },
   "outputs": [],
   "source": [
    "train_size1= int(len(training_set_scaler)*0.65)\n",
    "test_size1=int(len(training_set_scaler))-train_size1\n",
    "train_data1,test_data1=training_set_scaler[0:train_size1,:],training_set_scaler[train_size1:len(data),:1]"
   ]
  },
  {
   "cell_type": "code",
   "execution_count": 19,
   "metadata": {
    "colab": {
     "base_uri": "https://localhost:8080/"
    },
    "id": "w17asYmtYlMA",
    "outputId": "66d090bb-af8f-4dbf-9cd6-b650fdcacd51"
   },
   "outputs": [
    {
     "data": {
      "text/plain": [
       "1322"
      ]
     },
     "execution_count": 19,
     "metadata": {},
     "output_type": "execute_result"
    }
   ],
   "source": [
    "train_size1"
   ]
  },
  {
   "cell_type": "code",
   "execution_count": 20,
   "metadata": {
    "id": "bXIVuNQmYmew"
   },
   "outputs": [],
   "source": [
    "def create_dataset(dataset,time_step=1):\n",
    "    dataX, dataY = [], []\n",
    "    for i in range(len(dataset)-time_step-1):\n",
    "        a = dataset[i:(i+time_step), 0]   ###i=0, 0,1,2,3-----99   100\n",
    "        dataX.append(a)\n",
    "        dataY.append(dataset[i + time_step, 0])\n",
    "    return np.array(dataX), np.array(dataY)"
   ]
  },
  {
   "cell_type": "markdown",
   "metadata": {
    "id": "rxLtce_uZLKY"
   },
   "source": [
    "**Spliting X_train, X_test, y_train, y_test**"
   ]
  },
  {
   "cell_type": "code",
   "execution_count": 21,
   "metadata": {
    "id": "EBjvpHytYn1f"
   },
   "outputs": [],
   "source": [
    "time_step=100\n",
    "x_train, y_train=create_dataset(train_data1, time_step)\n",
    "x_test, y_test= create_dataset(test_data1, time_step)"
   ]
  },
  {
   "cell_type": "code",
   "execution_count": 22,
   "metadata": {
    "id": "0QSTYHjTYo_Q"
   },
   "outputs": [],
   "source": [
    "x_train = x_train.reshape(x_train.shape[0],x_train.shape[1] , 1)\n",
    "x_test = x_test.reshape(x_test.shape[0],x_test.shape[1] , 1)"
   ]
  },
  {
   "cell_type": "markdown",
   "metadata": {
    "id": "Pqcqrz7hZQxN"
   },
   "source": [
    "**Model Creation**"
   ]
  },
  {
   "cell_type": "code",
   "execution_count": 23,
   "metadata": {
    "id": "jQI8sU0hYrbI"
   },
   "outputs": [],
   "source": [
    "model = Sequential()\n",
    "model.add(LSTM(50, return_sequences=True, input_shape=(100,1)))\n",
    "model.add(LSTM(50, return_sequences=True, input_shape=(100,1)))\n",
    "model.add(LSTM(50))\n",
    "model.add(Dense(1))\n",
    "model.compile(loss='mean_squared_error', optimizer='adam', metrics='acc')"
   ]
  },
  {
   "cell_type": "code",
   "execution_count": 24,
   "metadata": {
    "colab": {
     "base_uri": "https://localhost:8080/"
    },
    "id": "NEKlurBTYune",
    "outputId": "3b156801-9882-4c1c-d9ca-e4f8bb42d821"
   },
   "outputs": [
    {
     "name": "stdout",
     "output_type": "stream",
     "text": [
      "Model: \"sequential\"\n",
      "_________________________________________________________________\n",
      " Layer (type)                Output Shape              Param #   \n",
      "=================================================================\n",
      " lstm (LSTM)                 (None, 100, 50)           10400     \n",
      "                                                                 \n",
      " lstm_1 (LSTM)               (None, 100, 50)           20200     \n",
      "                                                                 \n",
      " lstm_2 (LSTM)               (None, 50)                20200     \n",
      "                                                                 \n",
      " dense (Dense)               (None, 1)                 51        \n",
      "                                                                 \n",
      "=================================================================\n",
      "Total params: 50,851\n",
      "Trainable params: 50,851\n",
      "Non-trainable params: 0\n",
      "_________________________________________________________________\n"
     ]
    }
   ],
   "source": [
    "model.summary()"
   ]
  },
  {
   "cell_type": "markdown",
   "metadata": {
    "id": "342vlC8cZTEg"
   },
   "source": [
    "**Model Fitting**"
   ]
  },
  {
   "cell_type": "code",
   "execution_count": 25,
   "metadata": {
    "colab": {
     "base_uri": "https://localhost:8080/"
    },
    "id": "z7XJLdLEYwIg",
    "outputId": "2c14f9bd-a2ef-488a-d72c-1fc5cfc9a99a"
   },
   "outputs": [
    {
     "name": "stdout",
     "output_type": "stream",
     "text": [
      "Epoch 1/80\n",
      "20/20 [==============================] - 7s 158ms/step - loss: 0.0222 - acc: 8.1900e-04 - val_loss: 0.0053 - val_acc: 0.0016\n",
      "Epoch 2/80\n",
      "20/20 [==============================] - 2s 94ms/step - loss: 0.0030 - acc: 8.1900e-04 - val_loss: 9.1996e-04 - val_acc: 0.0016\n",
      "Epoch 3/80\n",
      "20/20 [==============================] - 2s 95ms/step - loss: 0.0018 - acc: 8.1900e-04 - val_loss: 0.0010 - val_acc: 0.0016\n",
      "Epoch 4/80\n",
      "20/20 [==============================] - 2s 98ms/step - loss: 0.0017 - acc: 8.1900e-04 - val_loss: 0.0011 - val_acc: 0.0016\n",
      "Epoch 5/80\n",
      "20/20 [==============================] - 2s 102ms/step - loss: 0.0016 - acc: 8.1900e-04 - val_loss: 0.0014 - val_acc: 0.0016\n",
      "Epoch 6/80\n",
      "20/20 [==============================] - 2s 102ms/step - loss: 0.0019 - acc: 8.1900e-04 - val_loss: 9.3329e-04 - val_acc: 0.0016\n",
      "Epoch 7/80\n",
      "20/20 [==============================] - 2s 101ms/step - loss: 0.0015 - acc: 8.1900e-04 - val_loss: 9.4338e-04 - val_acc: 0.0016\n",
      "Epoch 8/80\n",
      "20/20 [==============================] - 2s 104ms/step - loss: 0.0015 - acc: 8.1900e-04 - val_loss: 0.0012 - val_acc: 0.0016\n",
      "Epoch 9/80\n",
      "20/20 [==============================] - 2s 105ms/step - loss: 0.0014 - acc: 8.1900e-04 - val_loss: 9.0489e-04 - val_acc: 0.0016\n",
      "Epoch 10/80\n",
      "20/20 [==============================] - 2s 110ms/step - loss: 0.0014 - acc: 8.1900e-04 - val_loss: 9.0741e-04 - val_acc: 0.0016\n",
      "Epoch 11/80\n",
      "20/20 [==============================] - 2s 110ms/step - loss: 0.0013 - acc: 8.1900e-04 - val_loss: 8.5527e-04 - val_acc: 0.0016\n",
      "Epoch 12/80\n",
      "20/20 [==============================] - 2s 106ms/step - loss: 0.0012 - acc: 8.1900e-04 - val_loss: 8.6134e-04 - val_acc: 0.0016\n",
      "Epoch 13/80\n",
      "20/20 [==============================] - 2s 104ms/step - loss: 0.0011 - acc: 8.1900e-04 - val_loss: 8.3258e-04 - val_acc: 0.0016\n",
      "Epoch 14/80\n",
      "20/20 [==============================] - 2s 107ms/step - loss: 0.0010 - acc: 8.1900e-04 - val_loss: 9.0439e-04 - val_acc: 0.0016\n",
      "Epoch 15/80\n",
      "20/20 [==============================] - 2s 106ms/step - loss: 9.9904e-04 - acc: 8.1900e-04 - val_loss: 0.0014 - val_acc: 0.0016\n",
      "Epoch 16/80\n",
      "20/20 [==============================] - 2s 109ms/step - loss: 9.6754e-04 - acc: 8.1900e-04 - val_loss: 0.0010 - val_acc: 0.0016\n",
      "Epoch 17/80\n",
      "20/20 [==============================] - 2s 110ms/step - loss: 9.2281e-04 - acc: 8.1900e-04 - val_loss: 8.0838e-04 - val_acc: 0.0016\n",
      "Epoch 18/80\n",
      "20/20 [==============================] - 2s 112ms/step - loss: 8.9772e-04 - acc: 8.1900e-04 - val_loss: 6.9439e-04 - val_acc: 0.0016\n",
      "Epoch 19/80\n",
      "20/20 [==============================] - 2s 109ms/step - loss: 0.0011 - acc: 8.1900e-04 - val_loss: 7.0504e-04 - val_acc: 0.0016\n",
      "Epoch 20/80\n",
      "20/20 [==============================] - 2s 104ms/step - loss: 8.4504e-04 - acc: 8.1900e-04 - val_loss: 7.6103e-04 - val_acc: 0.0016\n",
      "Epoch 21/80\n",
      "20/20 [==============================] - 2s 105ms/step - loss: 7.9726e-04 - acc: 8.1900e-04 - val_loss: 8.6015e-04 - val_acc: 0.0016\n",
      "Epoch 22/80\n",
      "20/20 [==============================] - 2s 106ms/step - loss: 7.7400e-04 - acc: 8.1900e-04 - val_loss: 7.6770e-04 - val_acc: 0.0016\n",
      "Epoch 23/80\n",
      "20/20 [==============================] - 2s 105ms/step - loss: 9.3503e-04 - acc: 8.1900e-04 - val_loss: 0.0011 - val_acc: 0.0016\n",
      "Epoch 24/80\n",
      "20/20 [==============================] - 2s 104ms/step - loss: 7.9057e-04 - acc: 8.1900e-04 - val_loss: 7.7129e-04 - val_acc: 0.0016\n",
      "Epoch 25/80\n",
      "20/20 [==============================] - 2s 101ms/step - loss: 7.3147e-04 - acc: 8.1900e-04 - val_loss: 7.8793e-04 - val_acc: 0.0016\n",
      "Epoch 26/80\n",
      "20/20 [==============================] - 2s 104ms/step - loss: 7.7665e-04 - acc: 8.1900e-04 - val_loss: 0.0011 - val_acc: 0.0016\n",
      "Epoch 27/80\n",
      "20/20 [==============================] - 2s 104ms/step - loss: 7.0950e-04 - acc: 8.1900e-04 - val_loss: 8.0292e-04 - val_acc: 0.0016\n",
      "Epoch 28/80\n",
      "20/20 [==============================] - 2s 102ms/step - loss: 7.1492e-04 - acc: 8.1900e-04 - val_loss: 0.0010 - val_acc: 0.0016\n",
      "Epoch 29/80\n",
      "20/20 [==============================] - 2s 102ms/step - loss: 8.2807e-04 - acc: 8.1900e-04 - val_loss: 7.8594e-04 - val_acc: 0.0016\n",
      "Epoch 30/80\n",
      "20/20 [==============================] - 2s 100ms/step - loss: 6.6706e-04 - acc: 8.1900e-04 - val_loss: 9.5101e-04 - val_acc: 0.0016\n",
      "Epoch 31/80\n",
      "20/20 [==============================] - 2s 104ms/step - loss: 6.4130e-04 - acc: 8.1900e-04 - val_loss: 7.8594e-04 - val_acc: 0.0016\n",
      "Epoch 32/80\n",
      "20/20 [==============================] - 2s 101ms/step - loss: 6.1816e-04 - acc: 8.1900e-04 - val_loss: 7.6930e-04 - val_acc: 0.0016\n",
      "Epoch 33/80\n",
      "20/20 [==============================] - 2s 106ms/step - loss: 6.3549e-04 - acc: 8.1900e-04 - val_loss: 7.1349e-04 - val_acc: 0.0016\n",
      "Epoch 34/80\n",
      "20/20 [==============================] - 2s 108ms/step - loss: 6.2452e-04 - acc: 8.1900e-04 - val_loss: 7.9808e-04 - val_acc: 0.0016\n",
      "Epoch 35/80\n",
      "20/20 [==============================] - 2s 100ms/step - loss: 6.0466e-04 - acc: 8.1900e-04 - val_loss: 0.0010 - val_acc: 0.0016\n",
      "Epoch 36/80\n",
      "20/20 [==============================] - 2s 101ms/step - loss: 5.9580e-04 - acc: 8.1900e-04 - val_loss: 8.6329e-04 - val_acc: 0.0016\n",
      "Epoch 37/80\n",
      "20/20 [==============================] - 2s 97ms/step - loss: 6.9861e-04 - acc: 8.1900e-04 - val_loss: 5.8303e-04 - val_acc: 0.0016\n",
      "Epoch 38/80\n",
      "20/20 [==============================] - 2s 99ms/step - loss: 7.0419e-04 - acc: 8.1900e-04 - val_loss: 5.9995e-04 - val_acc: 0.0016\n",
      "Epoch 39/80\n",
      "20/20 [==============================] - 2s 99ms/step - loss: 5.7099e-04 - acc: 8.1900e-04 - val_loss: 7.8379e-04 - val_acc: 0.0016\n",
      "Epoch 40/80\n",
      "20/20 [==============================] - 2s 98ms/step - loss: 5.5284e-04 - acc: 8.1900e-04 - val_loss: 6.4645e-04 - val_acc: 0.0016\n",
      "Epoch 41/80\n",
      "20/20 [==============================] - 2s 99ms/step - loss: 5.5010e-04 - acc: 8.1900e-04 - val_loss: 7.2234e-04 - val_acc: 0.0016\n",
      "Epoch 42/80\n",
      "20/20 [==============================] - 2s 97ms/step - loss: 5.9622e-04 - acc: 8.1900e-04 - val_loss: 6.3023e-04 - val_acc: 0.0016\n",
      "Epoch 43/80\n",
      "20/20 [==============================] - 2s 97ms/step - loss: 6.0125e-04 - acc: 8.1900e-04 - val_loss: 8.0961e-04 - val_acc: 0.0016\n",
      "Epoch 44/80\n",
      "20/20 [==============================] - 2s 99ms/step - loss: 7.0276e-04 - acc: 8.1900e-04 - val_loss: 4.7415e-04 - val_acc: 0.0016\n",
      "Epoch 45/80\n",
      "20/20 [==============================] - 2s 98ms/step - loss: 6.5864e-04 - acc: 8.1900e-04 - val_loss: 8.6567e-04 - val_acc: 0.0016\n",
      "Epoch 46/80\n",
      "20/20 [==============================] - 2s 97ms/step - loss: 5.6634e-04 - acc: 8.1900e-04 - val_loss: 4.9687e-04 - val_acc: 0.0016\n",
      "Epoch 47/80\n",
      "20/20 [==============================] - 2s 98ms/step - loss: 5.7626e-04 - acc: 8.1900e-04 - val_loss: 5.4437e-04 - val_acc: 0.0016\n",
      "Epoch 48/80\n",
      "20/20 [==============================] - 2s 99ms/step - loss: 5.0231e-04 - acc: 8.1900e-04 - val_loss: 5.3235e-04 - val_acc: 0.0016\n",
      "Epoch 49/80\n",
      "20/20 [==============================] - 2s 99ms/step - loss: 4.6903e-04 - acc: 8.1900e-04 - val_loss: 6.5113e-04 - val_acc: 0.0016\n",
      "Epoch 50/80\n",
      "20/20 [==============================] - 2s 99ms/step - loss: 5.2614e-04 - acc: 8.1900e-04 - val_loss: 5.3866e-04 - val_acc: 0.0016\n",
      "Epoch 51/80\n",
      "20/20 [==============================] - 2s 101ms/step - loss: 4.7895e-04 - acc: 8.1900e-04 - val_loss: 5.7900e-04 - val_acc: 0.0016\n",
      "Epoch 52/80\n",
      "20/20 [==============================] - 2s 101ms/step - loss: 4.5288e-04 - acc: 8.1900e-04 - val_loss: 4.7307e-04 - val_acc: 0.0016\n",
      "Epoch 53/80\n",
      "20/20 [==============================] - 2s 101ms/step - loss: 5.2742e-04 - acc: 8.1900e-04 - val_loss: 5.8677e-04 - val_acc: 0.0016\n",
      "Epoch 54/80\n",
      "20/20 [==============================] - 2s 99ms/step - loss: 4.5443e-04 - acc: 8.1900e-04 - val_loss: 6.4069e-04 - val_acc: 0.0016\n",
      "Epoch 55/80\n",
      "20/20 [==============================] - 2s 101ms/step - loss: 4.8788e-04 - acc: 8.1900e-04 - val_loss: 4.4197e-04 - val_acc: 0.0016\n",
      "Epoch 56/80\n",
      "20/20 [==============================] - 2s 105ms/step - loss: 5.4288e-04 - acc: 8.1900e-04 - val_loss: 7.4549e-04 - val_acc: 0.0016\n",
      "Epoch 57/80\n",
      "20/20 [==============================] - 2s 107ms/step - loss: 4.6770e-04 - acc: 8.1900e-04 - val_loss: 5.4782e-04 - val_acc: 0.0016\n",
      "Epoch 58/80\n"
     ]
    },
    {
     "name": "stdout",
     "output_type": "stream",
     "text": [
      "20/20 [==============================] - 2s 103ms/step - loss: 4.1666e-04 - acc: 8.1900e-04 - val_loss: 5.6980e-04 - val_acc: 0.0016\n",
      "Epoch 59/80\n",
      "20/20 [==============================] - 2s 101ms/step - loss: 4.2606e-04 - acc: 8.1900e-04 - val_loss: 6.7010e-04 - val_acc: 0.0016\n",
      "Epoch 60/80\n",
      "20/20 [==============================] - 2s 102ms/step - loss: 5.1054e-04 - acc: 8.1900e-04 - val_loss: 3.9920e-04 - val_acc: 0.0016\n",
      "Epoch 61/80\n",
      "20/20 [==============================] - 2s 101ms/step - loss: 7.6287e-04 - acc: 8.1900e-04 - val_loss: 6.7109e-04 - val_acc: 0.0016\n",
      "Epoch 62/80\n",
      "20/20 [==============================] - 2s 102ms/step - loss: 4.5279e-04 - acc: 8.1900e-04 - val_loss: 6.6122e-04 - val_acc: 0.0016\n",
      "Epoch 63/80\n",
      "20/20 [==============================] - 2s 102ms/step - loss: 4.2267e-04 - acc: 8.1900e-04 - val_loss: 4.1942e-04 - val_acc: 0.0016\n",
      "Epoch 64/80\n",
      "20/20 [==============================] - 2s 101ms/step - loss: 3.7926e-04 - acc: 8.1900e-04 - val_loss: 4.4974e-04 - val_acc: 0.0016\n",
      "Epoch 65/80\n",
      "20/20 [==============================] - 2s 102ms/step - loss: 3.9012e-04 - acc: 8.1900e-04 - val_loss: 3.9168e-04 - val_acc: 0.0016\n",
      "Epoch 66/80\n",
      "20/20 [==============================] - 2s 101ms/step - loss: 3.6652e-04 - acc: 8.1900e-04 - val_loss: 4.1598e-04 - val_acc: 0.0016\n",
      "Epoch 67/80\n",
      "20/20 [==============================] - 2s 104ms/step - loss: 3.6503e-04 - acc: 8.1900e-04 - val_loss: 3.7187e-04 - val_acc: 0.0016\n",
      "Epoch 68/80\n",
      "20/20 [==============================] - 2s 104ms/step - loss: 3.6734e-04 - acc: 8.1900e-04 - val_loss: 5.3508e-04 - val_acc: 0.0016\n",
      "Epoch 69/80\n",
      "20/20 [==============================] - 2s 103ms/step - loss: 3.9818e-04 - acc: 8.1900e-04 - val_loss: 4.1929e-04 - val_acc: 0.0016\n",
      "Epoch 70/80\n",
      "20/20 [==============================] - 2s 102ms/step - loss: 3.8280e-04 - acc: 8.1900e-04 - val_loss: 3.9195e-04 - val_acc: 0.0016\n",
      "Epoch 71/80\n",
      "20/20 [==============================] - 2s 101ms/step - loss: 3.7370e-04 - acc: 8.1900e-04 - val_loss: 5.2820e-04 - val_acc: 0.0016\n",
      "Epoch 72/80\n",
      "20/20 [==============================] - 2s 103ms/step - loss: 3.9392e-04 - acc: 8.1900e-04 - val_loss: 3.2808e-04 - val_acc: 0.0016\n",
      "Epoch 73/80\n",
      "20/20 [==============================] - 2s 104ms/step - loss: 5.5004e-04 - acc: 8.1900e-04 - val_loss: 4.6600e-04 - val_acc: 0.0016\n",
      "Epoch 74/80\n",
      "20/20 [==============================] - 2s 108ms/step - loss: 4.3129e-04 - acc: 8.1900e-04 - val_loss: 3.7046e-04 - val_acc: 0.0016\n",
      "Epoch 75/80\n",
      "20/20 [==============================] - 2s 103ms/step - loss: 4.1081e-04 - acc: 8.1900e-04 - val_loss: 3.3548e-04 - val_acc: 0.0016\n",
      "Epoch 76/80\n",
      "20/20 [==============================] - 2s 103ms/step - loss: 3.4070e-04 - acc: 8.1900e-04 - val_loss: 3.8966e-04 - val_acc: 0.0016\n",
      "Epoch 77/80\n",
      "20/20 [==============================] - 2s 102ms/step - loss: 3.2884e-04 - acc: 8.1900e-04 - val_loss: 4.6349e-04 - val_acc: 0.0016\n",
      "Epoch 78/80\n",
      "20/20 [==============================] - 2s 101ms/step - loss: 3.1830e-04 - acc: 8.1900e-04 - val_loss: 3.3109e-04 - val_acc: 0.0016\n",
      "Epoch 79/80\n",
      "20/20 [==============================] - 2s 101ms/step - loss: 3.6078e-04 - acc: 8.1900e-04 - val_loss: 4.5957e-04 - val_acc: 0.0016\n",
      "Epoch 80/80\n",
      "20/20 [==============================] - 2s 102ms/step - loss: 3.3610e-04 - acc: 8.1900e-04 - val_loss: 3.0294e-04 - val_acc: 0.0016\n"
     ]
    },
    {
     "data": {
      "text/plain": [
       "<keras.callbacks.History at 0x2ce70281d60>"
      ]
     },
     "execution_count": 25,
     "metadata": {},
     "output_type": "execute_result"
    }
   ],
   "source": [
    "model.fit(x_train, y_train, validation_data = (x_test, y_test), epochs = 80, batch_size = 64, verbose = 1)"
   ]
  },
  {
   "cell_type": "markdown",
   "metadata": {
    "id": "BMZsFvBlZWGA"
   },
   "source": [
    "**New Predictions**"
   ]
  },
  {
   "cell_type": "code",
   "execution_count": null,
   "metadata": {
    "colab": {
     "base_uri": "https://localhost:8080/"
    },
    "id": "jfRDew2gYyQ9",
    "outputId": "595f2372-6b84-4017-d52a-16aac034bb8b"
   },
   "outputs": [
    {
     "name": "stdout",
     "output_type": "stream",
     "text": [
      "39/39 [==============================] - 3s 38ms/step\n",
      "20/20 [==============================] - 1s 38ms/step\n"
     ]
    }
   ],
   "source": [
    "train_predict1=model.predict(x_train)\n",
    "test_predict1=model.predict(x_test)\n",
    "#Transformback to original form\n",
    "train_predict1=scaler.inverse_transform(train_predict1)\n",
    "test_predict1=scaler.inverse_transform(test_predict1)"
   ]
  },
  {
   "cell_type": "markdown",
   "metadata": {
    "id": "_EzkMDb0ZbD4"
   },
   "source": [
    "**Model Evaluation**"
   ]
  },
  {
   "cell_type": "code",
   "execution_count": null,
   "metadata": {
    "colab": {
     "base_uri": "https://localhost:8080/"
    },
    "id": "LE3flFsKYzqV",
    "outputId": "6a0f5f4b-ac0f-40e6-9d2b-502567dcb8b6"
   },
   "outputs": [
    {
     "data": {
      "text/plain": [
       "168.07974947182774"
      ]
     },
     "execution_count": 27,
     "metadata": {},
     "output_type": "execute_result"
    }
   ],
   "source": [
    "math.sqrt(mean_squared_error(y_train,train_predict1))"
   ]
  },
  {
   "cell_type": "code",
   "execution_count": null,
   "metadata": {
    "colab": {
     "base_uri": "https://localhost:8080/"
    },
    "id": "nJ5Ug23HY0ue",
    "outputId": "803f1ec2-1ee9-4bc5-b888-94d6a2c29033"
   },
   "outputs": [
    {
     "data": {
      "text/plain": [
       "117.29172777875011"
      ]
     },
     "execution_count": 28,
     "metadata": {},
     "output_type": "execute_result"
    }
   ],
   "source": [
    "math.sqrt(mean_squared_error(y_test,test_predict1))"
   ]
  },
  {
   "cell_type": "markdown",
   "metadata": {
    "id": "MPfizOmkZeFJ"
   },
   "source": [
    "**Plotting**"
   ]
  },
  {
   "cell_type": "code",
   "execution_count": null,
   "metadata": {
    "colab": {
     "base_uri": "https://localhost:8080/",
     "height": 445
    },
    "id": "XRXkRJ9kY2hG",
    "outputId": "a12e135d-fcda-4429-a9ed-dbb2bbae85a0"
   },
   "outputs": [
    {
     "data": {
      "image/png": "[encoded data removed]",
      "text/plain": [
       "<Figure size 1000x500 with 1 Axes>"
      ]
     },
     "metadata": {},
     "output_type": "display_data"
    }
   ],
   "source": [
    "# shift train predictions for plotting\n",
    "look_back=100\n",
    "trainPredictPlot = np.empty_like(training_set_scaler)\n",
    "trainPredictPlot[:, :] = np.nan\n",
    "trainPredictPlot[look_back:len(train_predict1)+look_back, :] = train_predict1\n",
    "\n",
    "# shift test predictions for plotting\n",
    "testPredictPlot = np.empty_like(training_set_scaler)\n",
    "testPredictPlot[:, :] = np.nan\n",
    "testPredictPlot[len(train_predict1)+(look_back*2)+1:len(df1)-1, :] = test_predict1\n",
    "\n",
    "# plot baseline and predictions\n",
    "plt.figure(figsize=(10,5))\n",
    "plt.plot(scaler.inverse_transform(training_set_scaler))\n",
    "plt.plot(trainPredictPlot)\n",
    "plt.plot(testPredictPlot)\n",
    "plt.show()"
   ]
  },
  {
   "cell_type": "code",
   "execution_count": null,
   "metadata": {
    "id": "xPdBk-kvcGVe"
   },
   "outputs": [],
   "source": []
  }
 ],
 "metadata": {
  "colab": {
   "provenance": []
  },
  "kernelspec": {
   "display_name": "Python 3 (ipykernel)",
   "language": "python",
   "name": "python3"
  },
  "language_info": {
   "codemirror_mode": {
    "name": "ipython",
    "version": 3
   },
   "file_extension": ".py",
   "mimetype": "text/x-python",
   "name": "python",
   "nbconvert_exporter": "python",
   "pygments_lexer": "ipython3",
   "version": "3.9.12"
  }
 },
 "nbformat": 4,
 "nbformat_minor": 1
}
